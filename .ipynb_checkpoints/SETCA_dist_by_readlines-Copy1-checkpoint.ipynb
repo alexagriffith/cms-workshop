{
 "cells": [
  {
   "cell_type": "code",
   "execution_count": 57,
   "metadata": {},
   "outputs": [
    {
     "name": "stdout",
     "output_type": "stream",
     "text": [
      "water.xyz\n"
     ]
    }
   ],
   "source": [
    "import numpy\n",
    "import os \n",
    "\n",
    "file_location = os.path.join('water.xyz') \n",
    "print(file_location)"
   ]
  },
  {
   "cell_type": "code",
   "execution_count": 70,
   "metadata": {},
   "outputs": [],
   "source": [
    "xyz_file = 'benzene.xyz'"
   ]
  },
  {
   "cell_type": "code",
   "execution_count": 71,
   "metadata": {},
   "outputs": [
    {
     "data": {
      "text/plain": [
       "'/Users/lexalou/Desktop/cms-workshop'"
      ]
     },
     "execution_count": 71,
     "metadata": {},
     "output_type": "execute_result"
    }
   ],
   "source": [
    "pwd"
   ]
  },
  {
   "cell_type": "code",
   "execution_count": 72,
   "metadata": {},
   "outputs": [
    {
     "name": "stdout",
     "output_type": "stream",
     "text": [
      "Plotting_wPyPlot.ipynb         \u001b[1m\u001b[32mbuckminsterfullerene.xyz\u001b[m\u001b[m*\r\n",
      "SETCA_dist_by_readlines.ipynb  \u001b[1m\u001b[32mdistance_data_headers.csv\u001b[m\u001b[m*\r\n",
      "THR4_ATP.png                   \u001b[1m\u001b[34moutfiles\u001b[m\u001b[m/\r\n",
      "all_samples_330dpi.png         \u001b[1m\u001b[32msapt.out\u001b[m\u001b[m*\r\n",
      "\u001b[1m\u001b[32mbenzene.xyz\u001b[m\u001b[m*                   \u001b[1m\u001b[32mwater.xyz\u001b[m\u001b[m*\r\n"
     ]
    }
   ],
   "source": [
    "ls"
   ]
  },
  {
   "cell_type": "code",
   "execution_count": 73,
   "metadata": {},
   "outputs": [
    {
     "name": "stdout",
     "output_type": "stream",
     "text": [
      "benzene.xyz\n"
     ]
    }
   ],
   "source": [
    "print(xyz_file)"
   ]
  },
  {
   "cell_type": "code",
   "execution_count": 74,
   "metadata": {},
   "outputs": [],
   "source": [
    "f = open(xyz_file,'r')"
   ]
  },
  {
   "cell_type": "code",
   "execution_count": 75,
   "metadata": {},
   "outputs": [
    {
     "name": "stdout",
     "output_type": "stream",
     "text": [
      "['12\\n', 'benzene example\\n', '  C        0.00000        1.40272        0.00000\\n', '  H        0.00000        2.49029        0.00000\\n', '  C       -1.21479        0.70136        0.00000\\n', '  H       -2.15666        1.24515        0.00000\\n', '  C       -1.21479       -0.70136        0.00000\\n', '  H       -2.15666       -1.24515        0.00000\\n', '  C        0.00000       -1.40272        0.00000\\n', '  H        0.00000       -2.49029        0.00000\\n', '  C        1.21479       -0.70136        0.00000\\n', '  H        2.15666       -1.24515        0.00000\\n', '  C        1.21479        0.70136        0.00000\\n', '  H        2.15666        1.24515        0.00000']\n"
     ]
    }
   ],
   "source": [
    "data = f.readlines()\n",
    "print(data)"
   ]
  },
  {
   "cell_type": "code",
   "execution_count": 76,
   "metadata": {},
   "outputs": [
    {
     "name": "stdout",
     "output_type": "stream",
     "text": [
      "['  C        0.00000        1.40272        0.00000\\n', '  H        0.00000        2.49029        0.00000\\n', '  C       -1.21479        0.70136        0.00000\\n', '  H       -2.15666        1.24515        0.00000\\n', '  C       -1.21479       -0.70136        0.00000\\n', '  H       -2.15666       -1.24515        0.00000\\n', '  C        0.00000       -1.40272        0.00000\\n', '  H        0.00000       -2.49029        0.00000\\n', '  C        1.21479       -0.70136        0.00000\\n', '  H        2.15666       -1.24515        0.00000\\n', '  C        1.21479        0.70136        0.00000\\n', '  H        2.15666        1.24515        0.00000']\n"
     ]
    }
   ],
   "source": [
    "atom_data = data[2:][:]\n",
    "print(atom_data)"
   ]
  },
  {
   "cell_type": "code",
   "execution_count": 77,
   "metadata": {},
   "outputs": [
    {
     "name": "stdout",
     "output_type": "stream",
     "text": [
      "[[0.0, 1.40272, 0.0], [0.0, 2.49029, 0.0], [-1.21479, 0.70136, 0.0], [-2.15666, 1.24515, 0.0], [-1.21479, -0.70136, 0.0], [-2.15666, -1.24515, 0.0], [0.0, -1.40272, 0.0], [0.0, -2.49029, 0.0], [1.21479, -0.70136, 0.0], [2.15666, -1.24515, 0.0], [1.21479, 0.70136, 0.0], [2.15666, 1.24515, 0.0]]\n",
      "['C', 'H', 'C', 'H', 'C', 'H', 'C', 'H', 'C', 'H', 'C', 'H']\n"
     ]
    }
   ],
   "source": [
    "symbols = []\n",
    "coordinates = []\n",
    "for row in atom_data:\n",
    "    row = row.split()\n",
    "    x,y,z = float(row[1]), float(row[2]), float(row[3])\n",
    "    coordinates.append([x, y, z])\n",
    "    symbols.append(row[0])\n",
    "print(coordinates)\n",
    "print(symbols)"
   ]
  },
  {
   "cell_type": "code",
   "execution_count": 78,
   "metadata": {},
   "outputs": [],
   "source": [
    "#symbols = []\n",
    "#coordinates = []\n",
    "\n",
    "#for atom in data:\n",
    "    #print(atom)\n",
    "   # total = f.readline\n",
    "   # comment = f.readline\n",
    "   # atom = atom.split()\n",
    "   # symbol = atom[0]\n",
    "   # coordinate = atom[1:]\n",
    "   # symbols.append(symbol)\n",
    "   # coordinates.append(coordinate)\n",
    "\n",
    "#print(coordinates)\n",
    "\n",
    "#for numA, atomA in enumerate(coordinates):\n",
    "#    for numB, atomB in enumerate(coordinates):\n",
    "#        if numB < numA:\n",
    "#            x_dist = atomA[0] - atomB[0]\n",
    "#            y_dist = atomA[1] - atomB[1]\n",
    "#            z_dist = atomA[2] - atomB[2]\n",
    "#            dist = numpy.sqrt(x_dist**2 + y_dist**2 + z_dist**2)\n",
    "#            if dist > 0 and dist < 1.5:\n",
    "#                print(F'{symbols[numA]} to {symbols[numB]}: {dist:.3f}')"
   ]
  },
  {
   "cell_type": "code",
   "execution_count": 79,
   "metadata": {},
   "outputs": [],
   "source": [
    "#############################\n",
    "# Geometry Analysis Project #\n",
    "#############################\n",
    "\n",
    "#making a function that calculates all distances\n",
    "\n",
    "def calculate_distance(atom1, atom2):\n",
    "    x_dist = atom1[0] - atom2[0]\n",
    "    y_dist = atom1[1] - atom2[1]\n",
    "    z_dist = atom1[2] - atom2[2]\n",
    "    distance = numpy.sqrt(x_dist**2 + y_dist**2 + z_dist**2)\n",
    "    return distance "
   ]
  },
  {
   "cell_type": "code",
   "execution_count": 80,
   "metadata": {},
   "outputs": [],
   "source": [
    "def bond_check(bond_distance, minimum_value=0, maximum_value=1.5): # min and max values = x, where x is the default value if not specified in the cell below. \n",
    "    if bond_distance > minimum_value and bond_distance < maximum_value:\n",
    "        return True "
   ]
  },
  {
   "cell_type": "code",
   "execution_count": 81,
   "metadata": {},
   "outputs": [
    {
     "name": "stdout",
     "output_type": "stream",
     "text": [
      "H to C: 1.088\n",
      "C to C: 1.403\n",
      "H to C: 1.088\n",
      "C to C: 1.403\n",
      "H to C: 1.088\n",
      "C to C: 1.403\n",
      "H to C: 1.088\n",
      "C to C: 1.403\n",
      "H to C: 1.088\n",
      "C to C: 1.403\n",
      "C to C: 1.403\n",
      "H to C: 1.088\n"
     ]
    }
   ],
   "source": [
    "for numA, atomA in enumerate(coordinates):\n",
    "    for numB, atomB in enumerate(coordinates):\n",
    "       if numB < numA:\n",
    "            distance_AB = calculate_distance(atomA, atomB)\n",
    "            if bond_check(distance_AB, maximum_value=2.0): #if you dont want the default, you only need to specify the value you want to change. (here, maximum_value is changed to 2.0)\n",
    "                print(F'{symbols[numA]} to {symbols[numB]}: {distance_AB:.3f}')"
   ]
  },
  {
   "cell_type": "code",
   "execution_count": null,
   "metadata": {},
   "outputs": [],
   "source": []
  },
  {
   "cell_type": "code",
   "execution_count": 191,
   "metadata": {},
   "outputs": [],
   "source": [
    "#############################\n",
    "# Geometry Analysis Project #\n",
    "#############################\n",
    "\n",
    "#function example \n",
    "def function_name(parameters): #parameters are variables that should appear in lines of code where you are doing stuff & somewhere in lines of code you should generate value to return \n",
    "    #lines of code \n",
    "    #lines of code\n",
    "    return value_to_return \n",
    "\n",
    "#reason to write function: functions are easier to test. can test individually. "
   ]
  },
  {
   "cell_type": "code",
   "execution_count": null,
   "metadata": {},
   "outputs": [],
   "source": []
  }
 ],
 "metadata": {
  "kernelspec": {
   "display_name": "Python 3",
   "language": "python",
   "name": "python3"
  },
  "language_info": {
   "codemirror_mode": {
    "name": "ipython",
    "version": 3
   },
   "file_extension": ".py",
   "mimetype": "text/x-python",
   "name": "python",
   "nbconvert_exporter": "python",
   "pygments_lexer": "ipython3",
   "version": "3.7.3"
  }
 },
 "nbformat": 4,
 "nbformat_minor": 2
}
